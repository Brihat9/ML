{
 "cells": [
  {
   "cell_type": "code",
   "execution_count": 1,
   "metadata": {},
   "outputs": [
    {
     "data": {
      "text/plain": [
       "'\\n    ML Classroom Assignment 1\\n    Brihat Ratna Bajracharya\\n    19/075\\n    CDCSIT\\n'"
      ]
     },
     "execution_count": 1,
     "metadata": {},
     "output_type": "execute_result"
    }
   ],
   "source": [
    "'''\n",
    "    ML Classroom Assignment 1\n",
    "    Brihat Ratna Bajracharya\n",
    "    19/075\n",
    "    CDCSIT\n",
    "'''"
   ]
  },
  {
   "cell_type": "code",
   "execution_count": 2,
   "metadata": {},
   "outputs": [],
   "source": [
    "# ALL IMPORTS HERE\n",
    "\n",
    "import pandas as pd\n",
    "\n",
    "%matplotlib inline\n",
    "import matplotlib.pyplot as plt\n",
    "\n",
    "import numpy as np\n",
    "\n",
    "from sklearn.model_selection import train_test_split\n",
    "from sklearn.metrics import mean_squared_error\n",
    "\n",
    "import seaborn as sns"
   ]
  },
  {
   "cell_type": "code",
   "execution_count": 3,
   "metadata": {},
   "outputs": [],
   "source": [
    "# VISUALIZATION (QUESTION 1)"
   ]
  },
  {
   "cell_type": "code",
   "execution_count": 4,
   "metadata": {},
   "outputs": [
    {
     "data": {
      "text/html": [
       "<div>\n",
       "<style scoped>\n",
       "    .dataframe tbody tr th:only-of-type {\n",
       "        vertical-align: middle;\n",
       "    }\n",
       "\n",
       "    .dataframe tbody tr th {\n",
       "        vertical-align: top;\n",
       "    }\n",
       "\n",
       "    .dataframe thead th {\n",
       "        text-align: right;\n",
       "    }\n",
       "</style>\n",
       "<table border=\"1\" class=\"dataframe\">\n",
       "  <thead>\n",
       "    <tr style=\"text-align: right;\">\n",
       "      <th></th>\n",
       "      <th>CRIM</th>\n",
       "      <th>ZN</th>\n",
       "      <th>INDUS</th>\n",
       "      <th>CHAS</th>\n",
       "      <th>NOX</th>\n",
       "      <th>RM</th>\n",
       "      <th>AGE</th>\n",
       "      <th>DIS</th>\n",
       "      <th>RAD</th>\n",
       "      <th>TAX</th>\n",
       "      <th>PTRATIO</th>\n",
       "      <th>B</th>\n",
       "      <th>LSTAT</th>\n",
       "      <th>MEDV</th>\n",
       "    </tr>\n",
       "  </thead>\n",
       "  <tbody>\n",
       "    <tr>\n",
       "      <td>0</td>\n",
       "      <td>0.00632</td>\n",
       "      <td>18.0</td>\n",
       "      <td>2.31</td>\n",
       "      <td>0</td>\n",
       "      <td>0.538</td>\n",
       "      <td>6.575</td>\n",
       "      <td>65.2</td>\n",
       "      <td>4.0900</td>\n",
       "      <td>1</td>\n",
       "      <td>296.0</td>\n",
       "      <td>15.3</td>\n",
       "      <td>396.90</td>\n",
       "      <td>4.98</td>\n",
       "      <td>24.0</td>\n",
       "    </tr>\n",
       "    <tr>\n",
       "      <td>1</td>\n",
       "      <td>0.02731</td>\n",
       "      <td>0.0</td>\n",
       "      <td>7.07</td>\n",
       "      <td>0</td>\n",
       "      <td>0.469</td>\n",
       "      <td>6.421</td>\n",
       "      <td>78.9</td>\n",
       "      <td>4.9671</td>\n",
       "      <td>2</td>\n",
       "      <td>242.0</td>\n",
       "      <td>17.8</td>\n",
       "      <td>396.90</td>\n",
       "      <td>9.14</td>\n",
       "      <td>21.6</td>\n",
       "    </tr>\n",
       "    <tr>\n",
       "      <td>2</td>\n",
       "      <td>0.02729</td>\n",
       "      <td>0.0</td>\n",
       "      <td>7.07</td>\n",
       "      <td>0</td>\n",
       "      <td>0.469</td>\n",
       "      <td>7.185</td>\n",
       "      <td>61.1</td>\n",
       "      <td>4.9671</td>\n",
       "      <td>2</td>\n",
       "      <td>242.0</td>\n",
       "      <td>17.8</td>\n",
       "      <td>392.83</td>\n",
       "      <td>4.03</td>\n",
       "      <td>34.7</td>\n",
       "    </tr>\n",
       "    <tr>\n",
       "      <td>3</td>\n",
       "      <td>0.03237</td>\n",
       "      <td>0.0</td>\n",
       "      <td>2.18</td>\n",
       "      <td>0</td>\n",
       "      <td>0.458</td>\n",
       "      <td>6.998</td>\n",
       "      <td>45.8</td>\n",
       "      <td>6.0622</td>\n",
       "      <td>3</td>\n",
       "      <td>222.0</td>\n",
       "      <td>18.7</td>\n",
       "      <td>394.63</td>\n",
       "      <td>2.94</td>\n",
       "      <td>33.4</td>\n",
       "    </tr>\n",
       "    <tr>\n",
       "      <td>4</td>\n",
       "      <td>0.06905</td>\n",
       "      <td>0.0</td>\n",
       "      <td>2.18</td>\n",
       "      <td>0</td>\n",
       "      <td>0.458</td>\n",
       "      <td>7.147</td>\n",
       "      <td>54.2</td>\n",
       "      <td>6.0622</td>\n",
       "      <td>3</td>\n",
       "      <td>222.0</td>\n",
       "      <td>18.7</td>\n",
       "      <td>396.90</td>\n",
       "      <td>5.33</td>\n",
       "      <td>36.2</td>\n",
       "    </tr>\n",
       "    <tr>\n",
       "      <td>...</td>\n",
       "      <td>...</td>\n",
       "      <td>...</td>\n",
       "      <td>...</td>\n",
       "      <td>...</td>\n",
       "      <td>...</td>\n",
       "      <td>...</td>\n",
       "      <td>...</td>\n",
       "      <td>...</td>\n",
       "      <td>...</td>\n",
       "      <td>...</td>\n",
       "      <td>...</td>\n",
       "      <td>...</td>\n",
       "      <td>...</td>\n",
       "      <td>...</td>\n",
       "    </tr>\n",
       "    <tr>\n",
       "      <td>501</td>\n",
       "      <td>0.06263</td>\n",
       "      <td>0.0</td>\n",
       "      <td>11.93</td>\n",
       "      <td>0</td>\n",
       "      <td>0.573</td>\n",
       "      <td>6.593</td>\n",
       "      <td>69.1</td>\n",
       "      <td>2.4786</td>\n",
       "      <td>1</td>\n",
       "      <td>273.0</td>\n",
       "      <td>21.0</td>\n",
       "      <td>391.99</td>\n",
       "      <td>9.67</td>\n",
       "      <td>22.4</td>\n",
       "    </tr>\n",
       "    <tr>\n",
       "      <td>502</td>\n",
       "      <td>0.04527</td>\n",
       "      <td>0.0</td>\n",
       "      <td>11.93</td>\n",
       "      <td>0</td>\n",
       "      <td>0.573</td>\n",
       "      <td>6.120</td>\n",
       "      <td>76.7</td>\n",
       "      <td>2.2875</td>\n",
       "      <td>1</td>\n",
       "      <td>273.0</td>\n",
       "      <td>21.0</td>\n",
       "      <td>396.90</td>\n",
       "      <td>9.08</td>\n",
       "      <td>20.6</td>\n",
       "    </tr>\n",
       "    <tr>\n",
       "      <td>503</td>\n",
       "      <td>0.06076</td>\n",
       "      <td>0.0</td>\n",
       "      <td>11.93</td>\n",
       "      <td>0</td>\n",
       "      <td>0.573</td>\n",
       "      <td>6.976</td>\n",
       "      <td>91.0</td>\n",
       "      <td>2.1675</td>\n",
       "      <td>1</td>\n",
       "      <td>273.0</td>\n",
       "      <td>21.0</td>\n",
       "      <td>396.90</td>\n",
       "      <td>5.64</td>\n",
       "      <td>23.9</td>\n",
       "    </tr>\n",
       "    <tr>\n",
       "      <td>504</td>\n",
       "      <td>0.10959</td>\n",
       "      <td>0.0</td>\n",
       "      <td>11.93</td>\n",
       "      <td>0</td>\n",
       "      <td>0.573</td>\n",
       "      <td>6.794</td>\n",
       "      <td>89.3</td>\n",
       "      <td>2.3889</td>\n",
       "      <td>1</td>\n",
       "      <td>273.0</td>\n",
       "      <td>21.0</td>\n",
       "      <td>393.45</td>\n",
       "      <td>6.48</td>\n",
       "      <td>22.0</td>\n",
       "    </tr>\n",
       "    <tr>\n",
       "      <td>505</td>\n",
       "      <td>0.04741</td>\n",
       "      <td>0.0</td>\n",
       "      <td>11.93</td>\n",
       "      <td>0</td>\n",
       "      <td>0.573</td>\n",
       "      <td>6.030</td>\n",
       "      <td>80.8</td>\n",
       "      <td>2.5050</td>\n",
       "      <td>1</td>\n",
       "      <td>273.0</td>\n",
       "      <td>21.0</td>\n",
       "      <td>396.90</td>\n",
       "      <td>7.88</td>\n",
       "      <td>11.9</td>\n",
       "    </tr>\n",
       "  </tbody>\n",
       "</table>\n",
       "<p>506 rows × 14 columns</p>\n",
       "</div>"
      ],
      "text/plain": [
       "        CRIM    ZN  INDUS  CHAS    NOX     RM   AGE     DIS  RAD    TAX  \\\n",
       "0    0.00632  18.0   2.31     0  0.538  6.575  65.2  4.0900    1  296.0   \n",
       "1    0.02731   0.0   7.07     0  0.469  6.421  78.9  4.9671    2  242.0   \n",
       "2    0.02729   0.0   7.07     0  0.469  7.185  61.1  4.9671    2  242.0   \n",
       "3    0.03237   0.0   2.18     0  0.458  6.998  45.8  6.0622    3  222.0   \n",
       "4    0.06905   0.0   2.18     0  0.458  7.147  54.2  6.0622    3  222.0   \n",
       "..       ...   ...    ...   ...    ...    ...   ...     ...  ...    ...   \n",
       "501  0.06263   0.0  11.93     0  0.573  6.593  69.1  2.4786    1  273.0   \n",
       "502  0.04527   0.0  11.93     0  0.573  6.120  76.7  2.2875    1  273.0   \n",
       "503  0.06076   0.0  11.93     0  0.573  6.976  91.0  2.1675    1  273.0   \n",
       "504  0.10959   0.0  11.93     0  0.573  6.794  89.3  2.3889    1  273.0   \n",
       "505  0.04741   0.0  11.93     0  0.573  6.030  80.8  2.5050    1  273.0   \n",
       "\n",
       "     PTRATIO       B  LSTAT  MEDV  \n",
       "0       15.3  396.90   4.98  24.0  \n",
       "1       17.8  396.90   9.14  21.6  \n",
       "2       17.8  392.83   4.03  34.7  \n",
       "3       18.7  394.63   2.94  33.4  \n",
       "4       18.7  396.90   5.33  36.2  \n",
       "..       ...     ...    ...   ...  \n",
       "501     21.0  391.99   9.67  22.4  \n",
       "502     21.0  396.90   9.08  20.6  \n",
       "503     21.0  396.90   5.64  23.9  \n",
       "504     21.0  393.45   6.48  22.0  \n",
       "505     21.0  396.90   7.88  11.9  \n",
       "\n",
       "[506 rows x 14 columns]"
      ]
     },
     "execution_count": 4,
     "metadata": {},
     "output_type": "execute_result"
    }
   ],
   "source": [
    "# read csv\n",
    "\n",
    "data = pd.read_csv('housing.csv', delim_whitespace=True)\n",
    "data"
   ]
  },
  {
   "cell_type": "code",
   "execution_count": 5,
   "metadata": {},
   "outputs": [
    {
     "name": "stdout",
     "output_type": "stream",
     "text": [
      "CRIM      -0.388305\n",
      "ZN         0.360445\n",
      "INDUS     -0.483725\n",
      "CHAS       0.175260\n",
      "NOX       -0.427321\n",
      "RM         0.695360\n",
      "AGE       -0.376955\n",
      "DIS        0.249929\n",
      "RAD       -0.381626\n",
      "TAX       -0.468536\n",
      "PTRATIO   -0.507787\n",
      "B          0.333461\n",
      "LSTAT     -0.737663\n",
      "MEDV       1.000000\n",
      "Name: MEDV, dtype: float64\n"
     ]
    }
   ],
   "source": [
    "# correlation test among feature columns with MEDV column\n",
    "\n",
    "corr = data.corr()\n",
    "print(corr['MEDV'])\n",
    "\n",
    "labelcorr = corr['MEDV'].sort_values()\n",
    "corr_dict = dict(labelcorr)"
   ]
  },
  {
   "cell_type": "code",
   "execution_count": 6,
   "metadata": {},
   "outputs": [
    {
     "data": {
      "text/plain": [
       "['MEDV',\n",
       " 'LSTAT',\n",
       " 'RM',\n",
       " 'PTRATIO',\n",
       " 'INDUS',\n",
       " 'TAX',\n",
       " 'NOX',\n",
       " 'CRIM',\n",
       " 'RAD',\n",
       " 'AGE',\n",
       " 'ZN',\n",
       " 'B',\n",
       " 'DIS',\n",
       " 'CHAS']"
      ]
     },
     "execution_count": 6,
     "metadata": {},
     "output_type": "execute_result"
    }
   ],
   "source": [
    "# sort in descending order of absolute value of correlation coefficient\n",
    "\n",
    "sorted(corr_dict, key=lambda dict_key: abs(corr_dict[dict_key]), reverse=True)"
   ]
  },
  {
   "cell_type": "code",
   "execution_count": 7,
   "metadata": {},
   "outputs": [],
   "source": [
    "# obtain data for most correlated values\n",
    "\n",
    "lstat = data['LSTAT']\n",
    "room = data['RM']\n",
    "pt_ratio = data['PTRATIO']\n",
    "\n",
    "price = data['MEDV']"
   ]
  },
  {
   "cell_type": "code",
   "execution_count": 8,
   "metadata": {},
   "outputs": [
    {
     "data": {
      "image/png": "[encoded data removed]",
      "text/plain": [
       "<Figure size 432x288 with 1 Axes>"
      ]
     },
     "metadata": {
      "needs_background": "light"
     },
     "output_type": "display_data"
    }
   ],
   "source": [
    "# lSTAT vs MEDV plot\n",
    "\n",
    "plt.plot(lstat, price, 'g+')\n",
    "plt.xlabel('% Lower Status of Population')\n",
    "plt.ylabel('Price of house (in 1000s)')\n",
    "\n",
    "plt.show()"
   ]
  },
  {
   "cell_type": "code",
   "execution_count": 9,
   "metadata": {},
   "outputs": [
    {
     "data": {
      "image/png": "[encoded data removed]",
      "text/plain": [
       "<Figure size 432x288 with 1 Axes>"
      ]
     },
     "metadata": {
      "needs_background": "light"
     },
     "output_type": "display_data"
    }
   ],
   "source": [
    "# RM vs MEDV plot\n",
    "\n",
    "plt.plot(room, price, 'b+')\n",
    "plt.xlabel('Avg number of rooms (per house)')\n",
    "plt.ylabel('Price of house (in 1000s)')\n",
    "\n",
    "plt.show()"
   ]
  },
  {
   "cell_type": "code",
   "execution_count": 10,
   "metadata": {},
   "outputs": [
    {
     "data": {
      "image/png": "[encoded data removed]",
      "text/plain": [
       "<Figure size 432x288 with 1 Axes>"
      ]
     },
     "metadata": {
      "needs_background": "light"
     },
     "output_type": "display_data"
    }
   ],
   "source": [
    "# PTRATIO vs MEDV plot\n",
    "\n",
    "plt.plot(pt_ratio, price, 'r+')\n",
    "plt.xlabel('Pupil-Teacher Ratio')\n",
    "plt.ylabel('Price od house (in 1000s)')\n",
    "\n",
    "plt.show()"
   ]
  },
  {
   "cell_type": "code",
   "execution_count": 11,
   "metadata": {},
   "outputs": [
    {
     "name": "stdout",
     "output_type": "stream",
     "text": [
      "     LSTAT\n",
      "272   7.73\n",
      "327  12.79\n",
      "146  16.65\n",
      "21   13.83\n",
      "14   10.26\n",
      "..     ...\n",
      "453  16.74\n",
      "252   3.53\n",
      "473  11.66\n",
      "193   5.03\n",
      "297  15.84\n",
      "\n",
      "[404 rows x 1 columns]\n",
      "272    24.4\n",
      "327    22.2\n",
      "146    15.6\n",
      "21     19.6\n",
      "14     18.2\n",
      "       ... \n",
      "453    17.8\n",
      "252    29.6\n",
      "473    29.8\n",
      "193    31.1\n",
      "297    20.3\n",
      "Name: MEDV, Length: 404, dtype: float64\n"
     ]
    }
   ],
   "source": [
    "# train test split using sklearn\n",
    "\n",
    "' get X and Y '\n",
    "Y = data[list(data.columns)[-1]]\n",
    "\n",
    "selected_columns = ['LSTAT']\n",
    "\n",
    "X = data[selected_columns]\n",
    "X_train_lstat, X_test_lstat, Y_train_lstat, Y_test_lstat = train_test_split(X, Y, test_size = 0.2)\n",
    "\n",
    "X = room\n",
    "X_train_room, X_test_room, Y_train_room, Y_test_room = train_test_split(X, Y, test_size = 0.2)\n",
    "\n",
    "X = pt_ratio\n",
    "X_train_ptratio, X_test_ptratio, Y_train_ptratio, Y_test_ptratio = train_test_split(X, Y, test_size = 0.2)\n",
    "\n",
    "print(X_train_lstat)\n",
    "# print(X_test_room)\n",
    "print(Y_train_lstat)\n",
    "# print(Y_test_room)"
   ]
  },
  {
   "cell_type": "code",
   "execution_count": null,
   "metadata": {},
   "outputs": [],
   "source": []
  },
  {
   "cell_type": "code",
   "execution_count": 12,
   "metadata": {},
   "outputs": [
    {
     "data": {
      "image/png": "[encoded data removed]",
      "text/plain": [
       "<Figure size 432x288 with 1 Axes>"
      ]
     },
     "metadata": {
      "needs_background": "light"
     },
     "output_type": "display_data"
    }
   ],
   "source": [
    "# plot train set data (lstat)\n",
    "\n",
    "X_train = X_train_lstat\n",
    "Y_train = Y_train_lstat\n",
    "\n",
    "plt.plot(X_train, Y_train, 'g*')\n",
    "plt.xlabel('% Lower status of popn (train set)')\n",
    "plt.ylabel('Price of house (in 1000s, train set)')\n",
    "\n",
    "plt.show()"
   ]
  },
  {
   "cell_type": "code",
   "execution_count": 13,
   "metadata": {},
   "outputs": [
    {
     "data": {
      "image/png": "[encoded data removed]",
      "text/plain": [
       "<Figure size 432x288 with 1 Axes>"
      ]
     },
     "metadata": {
      "needs_background": "light"
     },
     "output_type": "display_data"
    }
   ],
   "source": [
    "# plot train set data (rm)\n",
    "\n",
    "X_train = X_train_room\n",
    "Y_train = Y_train_room\n",
    "\n",
    "plt.plot(X_train, Y_train, 'b*')\n",
    "plt.xlabel('Avg num of rooms per house (train set)')\n",
    "plt.ylabel('Price of house (in 1000s, train set)')\n",
    "\n",
    "plt.show()"
   ]
  },
  {
   "cell_type": "code",
   "execution_count": 14,
   "metadata": {},
   "outputs": [
    {
     "data": {
      "image/png": "[encoded data removed]",
      "text/plain": [
       "<Figure size 432x288 with 1 Axes>"
      ]
     },
     "metadata": {
      "needs_background": "light"
     },
     "output_type": "display_data"
    }
   ],
   "source": [
    "# plot train set data (pt_ratio)\n",
    "\n",
    "\n",
    "X_train = X_train_ptratio\n",
    "Y_train = Y_train_ptratio\n",
    "\n",
    "\n",
    "plt.plot(X_train, Y_train, 'r*')\n",
    "plt.xlabel('Pupil-Teacher ratio (train set)')\n",
    "plt.ylabel('Price of house (in 1000s, train set)')\n",
    "\n",
    "plt.show()"
   ]
  },
  {
   "cell_type": "code",
   "execution_count": 15,
   "metadata": {},
   "outputs": [],
   "source": [
    "# LINEAR REGRESSION (QUESTION 2)"
   ]
  },
  {
   "cell_type": "code",
   "execution_count": 16,
   "metadata": {},
   "outputs": [],
   "source": [
    "# change here for different linear regression\n",
    "\n",
    "X_train = X_train_lstat\n",
    "X_test = X_test_lstat\n",
    "Y_train = Y_train_lstat\n",
    "Y_test = Y_test_lstat\n",
    "\n",
    "# X_train = X_train_room\n",
    "# X_test = X_test_room\n",
    "# Y_train = Y_train_room\n",
    "# Y_test = Y_test_room\n",
    "\n",
    "# X_train = X_train_ptratio\n",
    "# X_test = X_test_ptratio\n",
    "# Y_train = Y_train_ptratio\n",
    "# Y_test = Y_test_ptratio"
   ]
  },
  {
   "cell_type": "code",
   "execution_count": null,
   "metadata": {},
   "outputs": [],
   "source": []
  },
  {
   "cell_type": "code",
   "execution_count": 17,
   "metadata": {},
   "outputs": [],
   "source": [
    "# cost function\n",
    "\n",
    "def costFunction(xVector, yVector, theta):\n",
    "    inner = np.power(((xVector * theta.T) - yVector), 2)\n",
    "    return np.sum(inner) / 2"
   ]
  },
  {
   "cell_type": "code",
   "execution_count": 18,
   "metadata": {},
   "outputs": [],
   "source": [
    "# pre for linear regression\n",
    "\n",
    "array_ones = np.ones(len(X_train))\n",
    "# print(array_ones)\n",
    "xVector = np.column_stack((array_ones, X_train))\n",
    "# print(xVector)\n",
    "\n",
    "# yVector = np.matrix(data['MEDV']).T\n",
    "yVector = np.matrix(Y_train).T\n",
    "\n",
    "# print(yVector)\n",
    "\n",
    "theta = np.matrix(np.array([0.00, 0.00]))\n",
    "# print(theta.T)"
   ]
  },
  {
   "cell_type": "code",
   "execution_count": 19,
   "metadata": {},
   "outputs": [
    {
     "name": "stdout",
     "output_type": "stream",
     "text": [
      "[[33.70346107]\n",
      " [-0.94388185]]\n"
     ]
    }
   ],
   "source": [
    "# Linear Regression from scratch\n",
    "\n",
    "learningRate = 0.0001\n",
    "iterations = len(X_train)\n",
    "\n",
    "costs = np.zeros(iterations)\n",
    "\n",
    "m = np.size(theta,1)\n",
    "\n",
    "newTheta = theta.T\n",
    "\n",
    "# print(newTheta)\n",
    "\n",
    "for iter in range(iterations):\n",
    "    costs[iter] = costFunction(xVector, yVector, theta)\n",
    "\n",
    "    for i in range(len(xVector)):\n",
    "        currentError = yVector[i,0] - (xVector[i,:] * newTheta)\n",
    "        for j in range(m):\n",
    "            term = np.multiply(np.multiply(currentError, xVector[i,j]), learningRate) \n",
    "\n",
    "            newTheta[j,0] = newTheta[j,0] + term\n",
    "    #         print(i, j, newTheta)\n",
    "print(newTheta)\n",
    "# print(costs)"
   ]
  },
  {
   "cell_type": "code",
   "execution_count": 20,
   "metadata": {},
   "outputs": [
    {
     "data": {
      "image/png": "[encoded data removed]",
      "text/plain": [
       "<Figure size 432x288 with 1 Axes>"
      ]
     },
     "metadata": {
      "needs_background": "light"
     },
     "output_type": "display_data"
    }
   ],
   "source": [
    "# linear regressoin on actual data\n",
    "\n",
    "t0 = float(newTheta[0])\n",
    "t1 = float(newTheta[1])\n",
    "\n",
    "plt.plot(X_train,Y_train,'g+')\n",
    "# plt.plot(X_train,t0 + t1*X_train,'r*')\n",
    "\n",
    "axes = plt.gca()\n",
    "x_vals = np.array(axes.get_xlim())\n",
    "y_vals = t0 + t1 * x_vals\n",
    "plt.plot(x_vals, y_vals, 'r--')\n",
    "plt.xlabel('% Lower status of popn (train set)')\n",
    "plt.ylabel('Price of house (in 1000s, train set)')\n",
    "    \n",
    "plt.show()"
   ]
  },
  {
   "cell_type": "code",
   "execution_count": null,
   "metadata": {},
   "outputs": [],
   "source": []
  },
  {
   "cell_type": "code",
   "execution_count": null,
   "metadata": {},
   "outputs": [],
   "source": []
  },
  {
   "cell_type": "code",
   "execution_count": 21,
   "metadata": {},
   "outputs": [
    {
     "data": {
      "text/plain": [
       "\"\\n# evaluation of test dataset\\n\\narray_ones_test = np.ones(len(X_test))\\n# print(array_ones_test)\\n\\nxVectorTest = np.column_stack((array_ones_test, X_test))\\n# print(xVectorTest)\\n\\ny_test_predict = xVectorTest * newTheta\\n# print(y_test_predict)\\n\\nyVectorTest = np.matrix(Y_test).T\\n# print(yVectorTest)\\n\\nplt.plot(X_test,Y_test,'g+')\\n# plt.plot(X_test,t0 + t1*X_test,'r*')\\n\\naxes = plt.gca()\\nx_vals = np.array(axes.get_xlim())\\ny_vals = t0 + t1 * x_vals\\nplt.plot(x_vals, y_vals, 'r--')\\n\\nplt.show()\\n\""
      ]
     },
     "execution_count": 21,
     "metadata": {},
     "output_type": "execute_result"
    }
   ],
   "source": [
    "'''\n",
    "# evaluation of test dataset\n",
    "\n",
    "array_ones_test = np.ones(len(X_test))\n",
    "# print(array_ones_test)\n",
    "\n",
    "xVectorTest = np.column_stack((array_ones_test, X_test))\n",
    "# print(xVectorTest)\n",
    "\n",
    "y_test_predict = xVectorTest * newTheta\n",
    "# print(y_test_predict)\n",
    "\n",
    "yVectorTest = np.matrix(Y_test).T\n",
    "# print(yVectorTest)\n",
    "\n",
    "plt.plot(X_test,Y_test,'g+')\n",
    "# plt.plot(X_test,t0 + t1*X_test,'r*')\n",
    "\n",
    "axes = plt.gca()\n",
    "x_vals = np.array(axes.get_xlim())\n",
    "y_vals = t0 + t1 * x_vals\n",
    "plt.plot(x_vals, y_vals, 'r--')\n",
    "\n",
    "plt.show()\n",
    "'''"
   ]
  },
  {
   "cell_type": "code",
   "execution_count": 22,
   "metadata": {},
   "outputs": [],
   "source": [
    "# rmse of test set\n",
    "\n",
    "# np.sqrt(mean_squared_error(yVectorTest, y_test_predict))"
   ]
  },
  {
   "cell_type": "code",
   "execution_count": null,
   "metadata": {
    "scrolled": false
   },
   "outputs": [],
   "source": []
  },
  {
   "cell_type": "code",
   "execution_count": null,
   "metadata": {},
   "outputs": [],
   "source": []
  },
  {
   "cell_type": "code",
   "execution_count": 23,
   "metadata": {},
   "outputs": [],
   "source": [
    "# Normalize Part from here (QUESTION 3)"
   ]
  },
  {
   "cell_type": "code",
   "execution_count": 24,
   "metadata": {},
   "outputs": [],
   "source": [
    "# Normalizing function\n",
    "def normalize(X): \n",
    "    mins = np.min(X, axis = 0) \n",
    "    maxs = np.max(X, axis = 0) \n",
    "    rng = maxs - mins \n",
    "    norm_X = 1 - ((maxs - X)/rng) \n",
    "    return norm_X\n",
    "\n",
    "# xdata = data['LSTAT']\n",
    "# xdata_norm = normalize(xdata)"
   ]
  },
  {
   "cell_type": "code",
   "execution_count": 25,
   "metadata": {},
   "outputs": [],
   "source": [
    "X_train_norm = normalize(X_train)\n",
    "# X_train_norm\n",
    "Y_train_norm = normalize(Y_train)\n",
    "# Y_train_norm\n",
    "X_test_norm = normalize(X_test)\n",
    "# X_test_norm\n",
    "Y_test_norm = normalize(Y_test)\n",
    "# Y_test_norm"
   ]
  },
  {
   "cell_type": "code",
   "execution_count": null,
   "metadata": {},
   "outputs": [],
   "source": []
  },
  {
   "cell_type": "code",
   "execution_count": 26,
   "metadata": {},
   "outputs": [],
   "source": [
    "# pre for linear regression (normalize)\n",
    "\n",
    "array_ones_norm = np.ones(len(X_train_norm))\n",
    "# print(array_ones_norm)\n",
    "\n",
    "xVectorNorm = np.column_stack((array_ones_norm, X_train_norm))\n",
    "# print(xVectorNorm)\n",
    "\n",
    "yVectorNorm = np.matrix(Y_train_norm).T\n",
    "\n",
    "# print(yVectorNorm)\n",
    "\n",
    "theta_norm = np.matrix(np.array([0.00, 0.00]))\n",
    "# print(theta_norm.T)"
   ]
  },
  {
   "cell_type": "code",
   "execution_count": 27,
   "metadata": {},
   "outputs": [
    {
     "name": "stdout",
     "output_type": "stream",
     "text": [
      "[[ 0.46356415]\n",
      " [-0.26762182]]\n"
     ]
    }
   ],
   "source": [
    "# Linear Regression from scratch (normalize)\n",
    "learningRate = 0.0001\n",
    "iterations = len(X_train_norm)\n",
    "\n",
    "costsNorm = np.zeros(iterations)\n",
    "\n",
    "mNorm = np.size(theta_norm,1)\n",
    "\n",
    "newThetaNorm = theta_norm.T\n",
    "\n",
    "# print(newTheta)\n",
    "\n",
    "for iter in range(iterations):\n",
    "    costsNorm[iter] = costFunction(xVectorNorm, yVectorNorm, theta_norm)\n",
    "\n",
    "    for i in range(len(xVectorNorm)):\n",
    "        currentErrorNorm = yVectorNorm[i,0] - (xVectorNorm[i,:] * newThetaNorm)\n",
    "        for j in range(mNorm):\n",
    "            termNorm = np.multiply(np.multiply(currentErrorNorm,xVectorNorm[i,j]),learningRate) \n",
    "\n",
    "            newThetaNorm[j,0] = newThetaNorm[j,0] + termNorm\n",
    "    #       print(i, newThetaNorm)\n",
    "print(newThetaNorm)\n",
    "# print(costs)"
   ]
  },
  {
   "cell_type": "code",
   "execution_count": 28,
   "metadata": {},
   "outputs": [
    {
     "data": {
      "image/png": "[encoded data removed]",
      "text/plain": [
       "<Figure size 432x288 with 1 Axes>"
      ]
     },
     "metadata": {
      "needs_background": "light"
     },
     "output_type": "display_data"
    }
   ],
   "source": [
    "# linear regressoin on actual data (normalize)\n",
    "\n",
    "t0 = float(newThetaNorm[0])\n",
    "t1 = float(newThetaNorm[1])\n",
    "\n",
    "plt.plot(X_train_norm,Y_train_norm,'g+')\n",
    "# plt.plot(X_train_norm,t0 + t1*X_train_norm,'r*')\n",
    "\n",
    "axes = plt.gca()\n",
    "x_vals = np.array(axes.get_xlim())\n",
    "y_vals = t0 + t1 * x_vals\n",
    "plt.plot(x_vals, y_vals, 'r--')\n",
    "plt.xlabel('% Lower status of popn (normalized train set)')\n",
    "plt.ylabel('Price of house (in 1000s, normalized train set)')\n",
    "\n",
    "plt.show()"
   ]
  },
  {
   "cell_type": "code",
   "execution_count": 29,
   "metadata": {},
   "outputs": [
    {
     "data": {
      "text/plain": [
       "\"\\n#evaluation of test dataset (normalize)\\n\\narray_ones_test_norm = np.ones(len(X_test_norm))\\n# print(array_ones_test_norm)\\n\\nxVectorTestNorm = np.column_stack((array_ones_test_norm, X_test_norm))\\n# print(xVectorTest)\\n\\ny_test_predict_norm = xVectorTestNorm * newThetaNorm\\n# print(y_test_predict)\\n\\nyVectorTestNorm = np.matrix(Y_test_norm).T\\n# print(yVectorTestNorm)\\n\\nplt.plot(X_test_norm,Y_test_norm,'g+')\\n# plt.plot(X_test_norm,t0 + t1*X_test_norm,'r*')\\n\\naxes = plt.gca()\\nx_vals = np.array(axes.get_xlim())\\ny_vals = t0 + t1 * x_vals\\nplt.plot(x_vals, y_vals, 'r--')\\n\\nplt.show()\\n\""
      ]
     },
     "execution_count": 29,
     "metadata": {},
     "output_type": "execute_result"
    }
   ],
   "source": [
    "'''\n",
    "#evaluation of test dataset (normalize)\n",
    "\n",
    "array_ones_test_norm = np.ones(len(X_test_norm))\n",
    "# print(array_ones_test_norm)\n",
    "\n",
    "xVectorTestNorm = np.column_stack((array_ones_test_norm, X_test_norm))\n",
    "# print(xVectorTest)\n",
    "\n",
    "y_test_predict_norm = xVectorTestNorm * newThetaNorm\n",
    "# print(y_test_predict)\n",
    "\n",
    "yVectorTestNorm = np.matrix(Y_test_norm).T\n",
    "# print(yVectorTestNorm)\n",
    "\n",
    "plt.plot(X_test_norm,Y_test_norm,'g+')\n",
    "# plt.plot(X_test_norm,t0 + t1*X_test_norm,'r*')\n",
    "\n",
    "axes = plt.gca()\n",
    "x_vals = np.array(axes.get_xlim())\n",
    "y_vals = t0 + t1 * x_vals\n",
    "plt.plot(x_vals, y_vals, 'r--')\n",
    "\n",
    "plt.show()\n",
    "'''"
   ]
  },
  {
   "cell_type": "code",
   "execution_count": 30,
   "metadata": {},
   "outputs": [],
   "source": [
    "# rmse of test set (normalize)\n",
    "\n",
    "\n",
    "# np.sqrt(mean_squared_error(yVectorTest, y_test_predict))"
   ]
  },
  {
   "cell_type": "code",
   "execution_count": null,
   "metadata": {},
   "outputs": [],
   "source": []
  },
  {
   "cell_type": "code",
   "execution_count": null,
   "metadata": {},
   "outputs": [],
   "source": []
  },
  {
   "cell_type": "code",
   "execution_count": null,
   "metadata": {},
   "outputs": [],
   "source": []
  },
  {
   "cell_type": "code",
   "execution_count": null,
   "metadata": {},
   "outputs": [],
   "source": []
  },
  {
   "cell_type": "code",
   "execution_count": null,
   "metadata": {},
   "outputs": [],
   "source": []
  },
  {
   "cell_type": "code",
   "execution_count": 31,
   "metadata": {},
   "outputs": [],
   "source": [
    "# logistic Regression from here (QUESTION 4)"
   ]
  },
  {
   "cell_type": "code",
   "execution_count": 32,
   "metadata": {},
   "outputs": [
    {
     "data": {
      "text/html": [
       "<div>\n",
       "<style scoped>\n",
       "    .dataframe tbody tr th:only-of-type {\n",
       "        vertical-align: middle;\n",
       "    }\n",
       "\n",
       "    .dataframe tbody tr th {\n",
       "        vertical-align: top;\n",
       "    }\n",
       "\n",
       "    .dataframe thead th {\n",
       "        text-align: right;\n",
       "    }\n",
       "</style>\n",
       "<table border=\"1\" class=\"dataframe\">\n",
       "  <thead>\n",
       "    <tr style=\"text-align: right;\">\n",
       "      <th></th>\n",
       "      <th>x1</th>\n",
       "      <th>x2</th>\n",
       "      <th>y</th>\n",
       "    </tr>\n",
       "  </thead>\n",
       "  <tbody>\n",
       "    <tr>\n",
       "      <td>0</td>\n",
       "      <td>4.5192</td>\n",
       "      <td>2.6487</td>\n",
       "      <td>1</td>\n",
       "    </tr>\n",
       "    <tr>\n",
       "      <td>1</td>\n",
       "      <td>2.4443</td>\n",
       "      <td>1.5438</td>\n",
       "      <td>1</td>\n",
       "    </tr>\n",
       "    <tr>\n",
       "      <td>2</td>\n",
       "      <td>4.2409</td>\n",
       "      <td>1.8990</td>\n",
       "      <td>1</td>\n",
       "    </tr>\n",
       "    <tr>\n",
       "      <td>3</td>\n",
       "      <td>5.8097</td>\n",
       "      <td>2.4711</td>\n",
       "      <td>1</td>\n",
       "    </tr>\n",
       "    <tr>\n",
       "      <td>4</td>\n",
       "      <td>6.4423</td>\n",
       "      <td>3.3590</td>\n",
       "      <td>1</td>\n",
       "    </tr>\n",
       "    <tr>\n",
       "      <td>...</td>\n",
       "      <td>...</td>\n",
       "      <td>...</td>\n",
       "      <td>...</td>\n",
       "    </tr>\n",
       "    <tr>\n",
       "      <td>95</td>\n",
       "      <td>5.9868</td>\n",
       "      <td>7.3641</td>\n",
       "      <td>0</td>\n",
       "    </tr>\n",
       "    <tr>\n",
       "      <td>96</td>\n",
       "      <td>4.6711</td>\n",
       "      <td>6.2592</td>\n",
       "      <td>0</td>\n",
       "    </tr>\n",
       "    <tr>\n",
       "      <td>97</td>\n",
       "      <td>7.5810</td>\n",
       "      <td>8.3703</td>\n",
       "      <td>0</td>\n",
       "    </tr>\n",
       "    <tr>\n",
       "      <td>98</td>\n",
       "      <td>4.6457</td>\n",
       "      <td>8.5676</td>\n",
       "      <td>0</td>\n",
       "    </tr>\n",
       "    <tr>\n",
       "      <td>99</td>\n",
       "      <td>4.6457</td>\n",
       "      <td>8.1676</td>\n",
       "      <td>0</td>\n",
       "    </tr>\n",
       "  </tbody>\n",
       "</table>\n",
       "<p>100 rows × 3 columns</p>\n",
       "</div>"
      ],
      "text/plain": [
       "        x1      x2  y\n",
       "0   4.5192  2.6487  1\n",
       "1   2.4443  1.5438  1\n",
       "2   4.2409  1.8990  1\n",
       "3   5.8097  2.4711  1\n",
       "4   6.4423  3.3590  1\n",
       "..     ...     ... ..\n",
       "95  5.9868  7.3641  0\n",
       "96  4.6711  6.2592  0\n",
       "97  7.5810  8.3703  0\n",
       "98  4.6457  8.5676  0\n",
       "99  4.6457  8.1676  0\n",
       "\n",
       "[100 rows x 3 columns]"
      ]
     },
     "execution_count": 32,
     "metadata": {},
     "output_type": "execute_result"
    }
   ],
   "source": [
    "# read csv\n",
    "\n",
    "data = pd.read_csv('Logisticdataset.csv', delimiter=',')\n",
    "data"
   ]
  },
  {
   "cell_type": "code",
   "execution_count": 33,
   "metadata": {},
   "outputs": [],
   "source": [
    "X = data[data.columns[:-1]].to_numpy()\n",
    "# print(X)\n",
    "y = data[data.columns[-1]].to_numpy()\n",
    "# print(y)"
   ]
  },
  {
   "cell_type": "code",
   "execution_count": 34,
   "metadata": {},
   "outputs": [],
   "source": [
    "# adds 1 to beginning of X vector\n",
    "def add_ones(X):\n",
    "    array_ones = np.ones((X.shape[0], 1))\n",
    "    return np.concatenate((array_ones, X), axis=1)\n"
   ]
  },
  {
   "cell_type": "code",
   "execution_count": 35,
   "metadata": {},
   "outputs": [],
   "source": [
    "XX = add_ones(X)\n",
    "# XX"
   ]
  },
  {
   "cell_type": "code",
   "execution_count": 36,
   "metadata": {},
   "outputs": [
    {
     "data": {
      "image/png": "[encoded data removed]",
      "text/plain": [
       "<Figure size 720x432 with 1 Axes>"
      ]
     },
     "metadata": {
      "needs_background": "light"
     },
     "output_type": "display_data"
    }
   ],
   "source": [
    "# plotting x1, x2 vs y\n",
    "\n",
    "plt.figure(figsize=(10, 6))\n",
    "plt.scatter(X[y == 0][:, 0], X[y == 0][:, 1], color='b', label='0')\n",
    "plt.scatter(X[y == 1][:, 0], X[y == 1][:, 1], color='r', label='1')\n",
    "plt.xlabel('x1')\n",
    "plt.ylabel('x2')\n",
    "plt.legend();"
   ]
  },
  {
   "cell_type": "code",
   "execution_count": 37,
   "metadata": {},
   "outputs": [],
   "source": [
    "# sigmoid function\n",
    "\n",
    "def sigmoid(x):\n",
    "    return 1 / (1 + np.exp(-x))"
   ]
  },
  {
   "cell_type": "code",
   "execution_count": 38,
   "metadata": {},
   "outputs": [],
   "source": [
    "# loss function\n",
    "\n",
    "def lossfunction(h, y):\n",
    "    return (-y * np.log(h) - (1 - y) * np.log(1 - h)).mean()"
   ]
  },
  {
   "cell_type": "code",
   "execution_count": 39,
   "metadata": {},
   "outputs": [],
   "source": [
    "# function that calculates logistic regression conefficients\n",
    "\n",
    "def myLogisticRegression(X, verbose=False):\n",
    "    theta = np.zeros(X.shape[1])\n",
    "    learning_rate = 0.1\n",
    "    iterations = len(X)\n",
    "\n",
    "    for i in range(iterations):\n",
    "        z = np.dot(X, theta)\n",
    "        h = sigmoid(z)\n",
    "\n",
    "        gradient = np.dot(X.T, (h - y)) / y.size\n",
    "\n",
    "        theta -= learning_rate * gradient\n",
    "#         print(theta)\n",
    "\n",
    "        if(verbose==True and i % iterations == 0):\n",
    "#             print(f'loss: {lossfunction(h, y)} \\t')\n",
    "            print(theta)\n",
    "#             pass\n",
    "    return theta"
   ]
  },
  {
   "cell_type": "code",
   "execution_count": 40,
   "metadata": {},
   "outputs": [
    {
     "name": "stdout",
     "output_type": "stream",
     "text": [
      "[ 0.          0.0406124  -0.06776865]\n",
      "Wall time: 0 ns\n"
     ]
    }
   ],
   "source": [
    "%time theta_calc = myLogisticRegression(XX, True)"
   ]
  },
  {
   "cell_type": "code",
   "execution_count": 41,
   "metadata": {},
   "outputs": [
    {
     "data": {
      "text/plain": [
       "array([ 0.20254295,  1.24114545, -1.4518324 ])"
      ]
     },
     "execution_count": 41,
     "metadata": {},
     "output_type": "execute_result"
    }
   ],
   "source": [
    "theta_calc"
   ]
  },
  {
   "cell_type": "code",
   "execution_count": 42,
   "metadata": {},
   "outputs": [
    {
     "data": {
      "image/png": "[encoded data removed]",
      "text/plain": [
       "<Figure size 720x432 with 1 Axes>"
      ]
     },
     "metadata": {
      "needs_background": "light"
     },
     "output_type": "display_data"
    }
   ],
   "source": [
    "plt.figure(figsize=(10, 6))\n",
    "\n",
    "plt.scatter(X[y == 0][:, 0], X[y == 0][:, 1], color='b', label='0')\n",
    "plt.scatter(X[y == 1][:, 0], X[y == 1][:, 1], color='r', label='1')\n",
    "plt.xlabel('x1')\n",
    "plt.ylabel('x2')\n",
    "plt.legend()\n",
    "# X = XX\n",
    "x1_min, x1_max = X[:,0].min(), X[:,0].max(),\n",
    "x2_min, x2_max = X[:,1].min(), X[:,1].max(),\n",
    "\n",
    "# print(x1_min)\n",
    "# print(x1_max)\n",
    "# print(x2_min)\n",
    "# print(x2_max)\n",
    "\n",
    "xx1, xx2 = np.meshgrid(np.linspace(x1_min, x1_max), np.linspace(x2_min, x2_max))\n",
    "\n",
    "# print(xx1)\n",
    "# print(xx2)\n",
    "\n",
    "grid = np.c_[xx1.ravel(), xx2.ravel()]\n",
    "\n",
    "# print(grid)\n",
    "\n",
    "grid = add_ones(grid)\n",
    "pro = sigmoid(np.dot(grid, theta_calc))\n",
    "\n",
    "probs = pro.reshape(xx1.shape)\n",
    "\n",
    "# print(probs)\n",
    "plt.contour(xx1, xx2, probs, [0.5], linewidths=2, colors='black');"
   ]
  },
  {
   "cell_type": "code",
   "execution_count": 43,
   "metadata": {},
   "outputs": [
    {
     "name": "stdout",
     "output_type": "stream",
     "text": [
      "Coefficients calculated from logistic regression\n",
      "θ0 = 0.20254294513724383\n",
      "θ1 = 1.241145447686426\n",
      "θ2 = -1.4518323972814373\n"
     ]
    }
   ],
   "source": [
    "# Finally solution for Question No 4\n",
    "\n",
    "print(\"Coefficients calculated from logistic regression\")\n",
    "print(\"\\u03B80 =\", theta_calc[0])\n",
    "print(\"\\u03B81 =\", theta_calc[1])\n",
    "print(\"\\u03B82 =\", theta_calc[2])"
   ]
  },
  {
   "cell_type": "code",
   "execution_count": null,
   "metadata": {},
   "outputs": [],
   "source": []
  },
  {
   "cell_type": "code",
   "execution_count": 44,
   "metadata": {},
   "outputs": [],
   "source": [
    "# QUESTION 5"
   ]
  },
  {
   "cell_type": "code",
   "execution_count": 45,
   "metadata": {},
   "outputs": [],
   "source": [
    "# modified Logistic Regression as Perceptron Learning Algorithm\n",
    "\n",
    "def PerceptronLearning(X, verbose=False):\n",
    "    theta = np.zeros(X.shape[1])\n",
    "    learning_rate = 0.1\n",
    "    iterations = len(X)\n",
    "    h = [None] * iterations\n",
    "    for i in range(iterations):\n",
    "        z = np.dot(X, theta)\n",
    "#         print(z)\n",
    "        for j in range(len(z)):\n",
    "            h[j] = 1 if z[j] > 0 else 0\n",
    "        \n",
    "#         print('h', h)\n",
    "\n",
    "        gradient = np.dot(X.T, (h - y)) / y.size\n",
    "\n",
    "        theta -= learning_rate * gradient\n",
    "#         print(theta)\n",
    "\n",
    "        if(verbose==True and i % iterations == 0):\n",
    "#             print(f'loss: {lossfunction(h, y)} \\t')\n",
    "            print(theta)\n",
    "#             pass\n",
    "    return theta"
   ]
  },
  {
   "cell_type": "code",
   "execution_count": 46,
   "metadata": {},
   "outputs": [],
   "source": [
    "theta_calc_perc = PerceptronLearning(XX, False)"
   ]
  },
  {
   "cell_type": "code",
   "execution_count": 47,
   "metadata": {},
   "outputs": [
    {
     "name": "stdout",
     "output_type": "stream",
     "text": [
      "Coefficients calculated from perceptron learning algorithm\n",
      "θ0 = 0.10500000000000007\n",
      "θ1 = 0.3692555999999987\n",
      "θ2 = -0.42804630000000204\n"
     ]
    }
   ],
   "source": [
    "# Coefficients for Perceptron Learning Algorithm\n",
    "\n",
    "print(\"Coefficients calculated from perceptron learning algorithm\")\n",
    "print(\"\\u03B80 =\", theta_calc_perc[0])\n",
    "print(\"\\u03B81 =\", theta_calc_perc[1])\n",
    "print(\"\\u03B82 =\", theta_calc_perc[2])"
   ]
  },
  {
   "cell_type": "code",
   "execution_count": null,
   "metadata": {},
   "outputs": [],
   "source": []
  },
  {
   "cell_type": "code",
   "execution_count": 48,
   "metadata": {},
   "outputs": [],
   "source": [
    "# function to preprocess input values for prediction, used by predict function\n",
    "def preprocess(X):\n",
    "    X.insert(0,1) # insert 1 at beginning\n",
    "    # print(X)\n",
    "    return np.array(X)"
   ]
  },
  {
   "cell_type": "code",
   "execution_count": 49,
   "metadata": {},
   "outputs": [],
   "source": [
    "# prediction using perceptron learning algorithm \n",
    "def threshold_function(z):\n",
    "    return z > 0"
   ]
  },
  {
   "cell_type": "code",
   "execution_count": 50,
   "metadata": {},
   "outputs": [],
   "source": [
    "# predicts output for given input X and learned theta\n",
    "\n",
    "def predict(X, theta):\n",
    "    preprocess(X)\n",
    "    \n",
    "    z = np.dot(X, theta)\n",
    "    # print(z)\n",
    "    \n",
    "    h = threshold_function(z)\n",
    "    # print(h)\n",
    "    \n",
    "    return 1 if h else 0"
   ]
  },
  {
   "cell_type": "code",
   "execution_count": 51,
   "metadata": {},
   "outputs": [],
   "source": [
    "# question 5 run\n",
    "\n",
    "input_X = [5.8097,2.4711]\n",
    "\n",
    "res = predict(input_X, theta_calc_perc)"
   ]
  },
  {
   "cell_type": "code",
   "execution_count": 52,
   "metadata": {},
   "outputs": [
    {
     "name": "stdout",
     "output_type": "stream",
     "text": [
      "Value of Y for [1, 5.8097, 2.4711] is: 1\n"
     ]
    }
   ],
   "source": [
    "print('Value of Y for', input_X, 'is:', res)"
   ]
  },
  {
   "cell_type": "code",
   "execution_count": null,
   "metadata": {},
   "outputs": [],
   "source": []
  },
  {
   "cell_type": "code",
   "execution_count": null,
   "metadata": {},
   "outputs": [],
   "source": []
  },
  {
   "cell_type": "code",
   "execution_count": null,
   "metadata": {},
   "outputs": [],
   "source": []
  },
  {
   "cell_type": "code",
   "execution_count": null,
   "metadata": {},
   "outputs": [],
   "source": []
  },
  {
   "cell_type": "code",
   "execution_count": null,
   "metadata": {},
   "outputs": [],
   "source": []
  },
  {
   "cell_type": "code",
   "execution_count": null,
   "metadata": {},
   "outputs": [],
   "source": []
  },
  {
   "cell_type": "code",
   "execution_count": null,
   "metadata": {},
   "outputs": [],
   "source": []
  },
  {
   "cell_type": "code",
   "execution_count": null,
   "metadata": {},
   "outputs": [],
   "source": []
  }
 ],
 "metadata": {
  "kernelspec": {
   "display_name": "Python 3",
   "language": "python",
   "name": "python3"
  },
  "language_info": {
   "codemirror_mode": {
    "name": "ipython",
    "version": 3
   },
   "file_extension": ".py",
   "mimetype": "text/x-python",
   "name": "python",
   "nbconvert_exporter": "python",
   "pygments_lexer": "ipython3",
   "version": "3.7.4"
  }
 },
 "nbformat": 4,
 "nbformat_minor": 2
}
